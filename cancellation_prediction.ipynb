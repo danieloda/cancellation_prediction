{
 "cells": [
  {
   "cell_type": "code",
   "execution_count": 2,
   "metadata": {},
   "outputs": [],
   "source": [
    "import patoolib # to extract the files\n",
    "import pandas as pd # for data analysis and manipulation\n",
    "import numpy as np # for scientific computing\n",
    "import plotly.express as px # for visualization"
   ]
  },
  {
   "cell_type": "code",
   "execution_count": 24,
   "metadata": {},
   "outputs": [
    {
     "name": "stdout",
     "output_type": "stream",
     "text": [
      "patool: Extracting raw/cancellation_prediction.rar ...\n",
      "patool: running \"C:\\Program Files\\7-Zip\\7z.EXE\" x -oraw/ -- raw/cancellation_prediction.rar\n"
     ]
    }
   ],
   "source": [
    "# .rar extraction\n",
    "\n",
    "patoolib.extract_archive(\"raw/cancellation_prediction.rar\", outdir=\"raw/\")"
   ]
  },
  {
   "cell_type": "code",
   "execution_count": 27,
   "metadata": {},
   "outputs": [],
   "source": [
    "df = pd.read_csv(\"raw/cancellation_prediction.csv\")"
   ]
  },
  {
   "cell_type": "code",
   "execution_count": 28,
   "metadata": {},
   "outputs": [
    {
     "data": {
      "text/plain": [
       "type                               Fancy Hotel\n",
       "cancellation                                 0\n",
       "days_between_booking_arrival               342\n",
       "year_arrival_date                         2015\n",
       "month_arrival_date                        July\n",
       "week_number_arrival_date                    27\n",
       "day_of_month_arrival_date                    1\n",
       "num_weekend_nights                           0\n",
       "num_workweek_nights                          0\n",
       "num_adults                                   2\n",
       "num_children                               0.0\n",
       "num_babies                                   0\n",
       "breakfast                                 True\n",
       "country                                    PRT\n",
       "market_segment                               0\n",
       "distribution_channel                         0\n",
       "repeated_guest                               0\n",
       "num_previous_cancellations                   0\n",
       "num_previous_stays                           0\n",
       "reserved_room                                C\n",
       "changes_between_booking_arrival              3\n",
       "deposit_policy                      No Deposit\n",
       "id_travel_agency_booking                   NaN\n",
       "id_person_booking                          NaN\n",
       "customer_type                                0\n",
       "avg_price                                  0.0\n",
       "required_car_parking_spaces                  0\n",
       "total_of_special_requests                    0\n",
       "Name: 0, dtype: object"
      ]
     },
     "execution_count": 28,
     "metadata": {},
     "output_type": "execute_result"
    }
   ],
   "source": [
    "df.iloc[0]"
   ]
  },
  {
   "cell_type": "code",
   "execution_count": 31,
   "metadata": {},
   "outputs": [],
   "source": [
    "months_dict = dict((v,k) for k,v in zip(range(1, 13), df[\"month_arrival_date\"].unique()))\n",
    "df['month_arrival_date'] = df['month_arrival_date'].map(months_dict)\n",
    "\n",
    "df[\"breakfast\"] = df[\"breakfast\"]*1\n",
    "\n",
    "rooms_dict = dict((v,k) for k,v in zip(range(len(df[\"reserved_room\"].unique())), np.sort(df[\"reserved_room\"].unique())))\n",
    "df['reserved_room'] = df['reserved_room'].map(rooms_dict)\n",
    "\n",
    "type_dict = {\"Fancy Hotel\":1, \"Hotel\":0}\n",
    "df['type'] = df['type'].map(type_dict)"
   ]
  },
  {
   "cell_type": "code",
   "execution_count": 30,
   "metadata": {},
   "outputs": [
    {
     "data": {
      "text/plain": [
       "array(['No Deposit', 'Refundable', 'Non Refund'], dtype=object)"
      ]
     },
     "execution_count": 30,
     "metadata": {},
     "output_type": "execute_result"
    }
   ],
   "source": [
    "df[\"deposit_policy\"].unique()"
   ]
  },
  {
   "cell_type": "code",
   "execution_count": 74,
   "metadata": {},
   "outputs": [
    {
     "data": {
      "text/plain": [
       "(0.2222222222222222, 0.0013568975626099338)"
      ]
     },
     "execution_count": 74,
     "metadata": {},
     "output_type": "execute_result"
    }
   ],
   "source": [
    "(len(df[(df[\"deposit_policy\"] == \"Refundable\") & (df[\"cancellation\"] == 1)]) / len(df[df[\"deposit_policy\"] == \"Refundable\"])), len(df[df[\"deposit_policy\"] == \"Refundable\"])/len(df)"
   ]
  },
  {
   "cell_type": "code",
   "execution_count": 73,
   "metadata": {},
   "outputs": [
    {
     "data": {
      "text/plain": [
       "(0.9936244601357374, 0.1221794120110562)"
      ]
     },
     "execution_count": 73,
     "metadata": {},
     "output_type": "execute_result"
    }
   ],
   "source": [
    "len(df[(df[\"deposit_policy\"] == \"Non Refund\") & (df[\"cancellation\"] == 1)]) / len(df[df[\"deposit_policy\"] == \"Non Refund\"]), len(df[df[\"deposit_policy\"] == \"Non Refund\"])/len(df)"
   ]
  },
  {
   "cell_type": "code",
   "execution_count": 75,
   "metadata": {},
   "outputs": [
    {
     "data": {
      "text/plain": [
       "(0.28377022390841067, 0.8764636904263339)"
      ]
     },
     "execution_count": 75,
     "metadata": {},
     "output_type": "execute_result"
    }
   ],
   "source": [
    "(len(df[(df[\"deposit_policy\"] == \"No Deposit\") & (df[\"cancellation\"] == 1)]) / len(df[df[\"deposit_policy\"] == \"No Deposit\"])), len(df[df[\"deposit_policy\"] == \"No Deposit\"])/len(df)"
   ]
  },
  {
   "cell_type": "code",
   "execution_count": 33,
   "metadata": {},
   "outputs": [
    {
     "data": {
      "text/plain": [
       "type                                        1\n",
       "cancellation                                0\n",
       "days_between_booking_arrival                0\n",
       "year_arrival_date                        2015\n",
       "month_arrival_date                          1\n",
       "week_number_arrival_date                   28\n",
       "day_of_month_arrival_date                   7\n",
       "num_weekend_nights                          0\n",
       "num_workweek_nights                         1\n",
       "num_adults                                  1\n",
       "num_children                              0.0\n",
       "num_babies                                  0\n",
       "breakfast                                   1\n",
       "country                                   GBR\n",
       "market_segment                              2\n",
       "distribution_channel                        2\n",
       "repeated_guest                              0\n",
       "num_previous_cancellations                  0\n",
       "num_previous_stays                          0\n",
       "reserved_room                               0\n",
       "changes_between_booking_arrival             0\n",
       "deposit_policy                     No Deposit\n",
       "id_travel_agency_booking                240.0\n",
       "id_person_booking                         NaN\n",
       "customer_type                               0\n",
       "avg_price                               109.8\n",
       "required_car_parking_spaces                 0\n",
       "total_of_special_requests                   3\n",
       "Name: 200, dtype: object"
      ]
     },
     "execution_count": 33,
     "metadata": {},
     "output_type": "execute_result"
    }
   ],
   "source": [
    "df.iloc[200]"
   ]
  },
  {
   "cell_type": "code",
   "execution_count": 34,
   "metadata": {},
   "outputs": [
    {
     "data": {
      "application/vnd.plotly.v1+json": {
       "config": {
        "plotlyServerURL": "https://plot.ly"
       },
       "data": [
        {
         "alignmentgroup": "True",
         "hovertemplate": "index=%{x}<br>0=%{y}<extra></extra>",
         "legendgroup": "",
         "marker": {
          "color": "#636efa",
          "pattern": {
           "shape": ""
          }
         },
         "name": "",
         "offsetgroup": "",
         "orientation": "v",
         "showlegend": false,
         "textposition": "auto",
         "type": "bar",
         "x": [
          "type",
          "cancellation",
          "days_between_booking_arrival",
          "year_arrival_date",
          "month_arrival_date",
          "week_number_arrival_date",
          "day_of_month_arrival_date",
          "num_weekend_nights",
          "num_workweek_nights",
          "num_adults",
          "num_children",
          "num_babies",
          "breakfast",
          "country",
          "market_segment",
          "distribution_channel",
          "repeated_guest",
          "num_previous_cancellations",
          "num_previous_stays",
          "reserved_room",
          "changes_between_booking_arrival",
          "deposit_policy",
          "id_travel_agency_booking",
          "id_person_booking",
          "customer_type",
          "avg_price",
          "required_car_parking_spaces",
          "total_of_special_requests"
         ],
         "xaxis": "x",
         "y": [
          1,
          1,
          1,
          1,
          1,
          1,
          1,
          1,
          1,
          1,
          1,
          1,
          1,
          1,
          1,
          1,
          1,
          1,
          1,
          1,
          1,
          1,
          0.86,
          0.06,
          1,
          1,
          1,
          1
         ],
         "yaxis": "y"
        }
       ],
       "layout": {
        "barmode": "relative",
        "legend": {
         "tracegroupgap": 0
        },
        "margin": {
         "t": 60
        },
        "template": {
         "data": {
          "bar": [
           {
            "error_x": {
             "color": "#2a3f5f"
            },
            "error_y": {
             "color": "#2a3f5f"
            },
            "marker": {
             "line": {
              "color": "#E5ECF6",
              "width": 0.5
             },
             "pattern": {
              "fillmode": "overlay",
              "size": 10,
              "solidity": 0.2
             }
            },
            "type": "bar"
           }
          ],
          "barpolar": [
           {
            "marker": {
             "line": {
              "color": "#E5ECF6",
              "width": 0.5
             },
             "pattern": {
              "fillmode": "overlay",
              "size": 10,
              "solidity": 0.2
             }
            },
            "type": "barpolar"
           }
          ],
          "carpet": [
           {
            "aaxis": {
             "endlinecolor": "#2a3f5f",
             "gridcolor": "white",
             "linecolor": "white",
             "minorgridcolor": "white",
             "startlinecolor": "#2a3f5f"
            },
            "baxis": {
             "endlinecolor": "#2a3f5f",
             "gridcolor": "white",
             "linecolor": "white",
             "minorgridcolor": "white",
             "startlinecolor": "#2a3f5f"
            },
            "type": "carpet"
           }
          ],
          "choropleth": [
           {
            "colorbar": {
             "outlinewidth": 0,
             "ticks": ""
            },
            "type": "choropleth"
           }
          ],
          "contour": [
           {
            "colorbar": {
             "outlinewidth": 0,
             "ticks": ""
            },
            "colorscale": [
             [
              0,
              "#0d0887"
             ],
             [
              0.1111111111111111,
              "#46039f"
             ],
             [
              0.2222222222222222,
              "#7201a8"
             ],
             [
              0.3333333333333333,
              "#9c179e"
             ],
             [
              0.4444444444444444,
              "#bd3786"
             ],
             [
              0.5555555555555556,
              "#d8576b"
             ],
             [
              0.6666666666666666,
              "#ed7953"
             ],
             [
              0.7777777777777778,
              "#fb9f3a"
             ],
             [
              0.8888888888888888,
              "#fdca26"
             ],
             [
              1,
              "#f0f921"
             ]
            ],
            "type": "contour"
           }
          ],
          "contourcarpet": [
           {
            "colorbar": {
             "outlinewidth": 0,
             "ticks": ""
            },
            "type": "contourcarpet"
           }
          ],
          "heatmap": [
           {
            "colorbar": {
             "outlinewidth": 0,
             "ticks": ""
            },
            "colorscale": [
             [
              0,
              "#0d0887"
             ],
             [
              0.1111111111111111,
              "#46039f"
             ],
             [
              0.2222222222222222,
              "#7201a8"
             ],
             [
              0.3333333333333333,
              "#9c179e"
             ],
             [
              0.4444444444444444,
              "#bd3786"
             ],
             [
              0.5555555555555556,
              "#d8576b"
             ],
             [
              0.6666666666666666,
              "#ed7953"
             ],
             [
              0.7777777777777778,
              "#fb9f3a"
             ],
             [
              0.8888888888888888,
              "#fdca26"
             ],
             [
              1,
              "#f0f921"
             ]
            ],
            "type": "heatmap"
           }
          ],
          "heatmapgl": [
           {
            "colorbar": {
             "outlinewidth": 0,
             "ticks": ""
            },
            "colorscale": [
             [
              0,
              "#0d0887"
             ],
             [
              0.1111111111111111,
              "#46039f"
             ],
             [
              0.2222222222222222,
              "#7201a8"
             ],
             [
              0.3333333333333333,
              "#9c179e"
             ],
             [
              0.4444444444444444,
              "#bd3786"
             ],
             [
              0.5555555555555556,
              "#d8576b"
             ],
             [
              0.6666666666666666,
              "#ed7953"
             ],
             [
              0.7777777777777778,
              "#fb9f3a"
             ],
             [
              0.8888888888888888,
              "#fdca26"
             ],
             [
              1,
              "#f0f921"
             ]
            ],
            "type": "heatmapgl"
           }
          ],
          "histogram": [
           {
            "marker": {
             "pattern": {
              "fillmode": "overlay",
              "size": 10,
              "solidity": 0.2
             }
            },
            "type": "histogram"
           }
          ],
          "histogram2d": [
           {
            "colorbar": {
             "outlinewidth": 0,
             "ticks": ""
            },
            "colorscale": [
             [
              0,
              "#0d0887"
             ],
             [
              0.1111111111111111,
              "#46039f"
             ],
             [
              0.2222222222222222,
              "#7201a8"
             ],
             [
              0.3333333333333333,
              "#9c179e"
             ],
             [
              0.4444444444444444,
              "#bd3786"
             ],
             [
              0.5555555555555556,
              "#d8576b"
             ],
             [
              0.6666666666666666,
              "#ed7953"
             ],
             [
              0.7777777777777778,
              "#fb9f3a"
             ],
             [
              0.8888888888888888,
              "#fdca26"
             ],
             [
              1,
              "#f0f921"
             ]
            ],
            "type": "histogram2d"
           }
          ],
          "histogram2dcontour": [
           {
            "colorbar": {
             "outlinewidth": 0,
             "ticks": ""
            },
            "colorscale": [
             [
              0,
              "#0d0887"
             ],
             [
              0.1111111111111111,
              "#46039f"
             ],
             [
              0.2222222222222222,
              "#7201a8"
             ],
             [
              0.3333333333333333,
              "#9c179e"
             ],
             [
              0.4444444444444444,
              "#bd3786"
             ],
             [
              0.5555555555555556,
              "#d8576b"
             ],
             [
              0.6666666666666666,
              "#ed7953"
             ],
             [
              0.7777777777777778,
              "#fb9f3a"
             ],
             [
              0.8888888888888888,
              "#fdca26"
             ],
             [
              1,
              "#f0f921"
             ]
            ],
            "type": "histogram2dcontour"
           }
          ],
          "mesh3d": [
           {
            "colorbar": {
             "outlinewidth": 0,
             "ticks": ""
            },
            "type": "mesh3d"
           }
          ],
          "parcoords": [
           {
            "line": {
             "colorbar": {
              "outlinewidth": 0,
              "ticks": ""
             }
            },
            "type": "parcoords"
           }
          ],
          "pie": [
           {
            "automargin": true,
            "type": "pie"
           }
          ],
          "scatter": [
           {
            "marker": {
             "colorbar": {
              "outlinewidth": 0,
              "ticks": ""
             }
            },
            "type": "scatter"
           }
          ],
          "scatter3d": [
           {
            "line": {
             "colorbar": {
              "outlinewidth": 0,
              "ticks": ""
             }
            },
            "marker": {
             "colorbar": {
              "outlinewidth": 0,
              "ticks": ""
             }
            },
            "type": "scatter3d"
           }
          ],
          "scattercarpet": [
           {
            "marker": {
             "colorbar": {
              "outlinewidth": 0,
              "ticks": ""
             }
            },
            "type": "scattercarpet"
           }
          ],
          "scattergeo": [
           {
            "marker": {
             "colorbar": {
              "outlinewidth": 0,
              "ticks": ""
             }
            },
            "type": "scattergeo"
           }
          ],
          "scattergl": [
           {
            "marker": {
             "colorbar": {
              "outlinewidth": 0,
              "ticks": ""
             }
            },
            "type": "scattergl"
           }
          ],
          "scattermapbox": [
           {
            "marker": {
             "colorbar": {
              "outlinewidth": 0,
              "ticks": ""
             }
            },
            "type": "scattermapbox"
           }
          ],
          "scatterpolar": [
           {
            "marker": {
             "colorbar": {
              "outlinewidth": 0,
              "ticks": ""
             }
            },
            "type": "scatterpolar"
           }
          ],
          "scatterpolargl": [
           {
            "marker": {
             "colorbar": {
              "outlinewidth": 0,
              "ticks": ""
             }
            },
            "type": "scatterpolargl"
           }
          ],
          "scatterternary": [
           {
            "marker": {
             "colorbar": {
              "outlinewidth": 0,
              "ticks": ""
             }
            },
            "type": "scatterternary"
           }
          ],
          "surface": [
           {
            "colorbar": {
             "outlinewidth": 0,
             "ticks": ""
            },
            "colorscale": [
             [
              0,
              "#0d0887"
             ],
             [
              0.1111111111111111,
              "#46039f"
             ],
             [
              0.2222222222222222,
              "#7201a8"
             ],
             [
              0.3333333333333333,
              "#9c179e"
             ],
             [
              0.4444444444444444,
              "#bd3786"
             ],
             [
              0.5555555555555556,
              "#d8576b"
             ],
             [
              0.6666666666666666,
              "#ed7953"
             ],
             [
              0.7777777777777778,
              "#fb9f3a"
             ],
             [
              0.8888888888888888,
              "#fdca26"
             ],
             [
              1,
              "#f0f921"
             ]
            ],
            "type": "surface"
           }
          ],
          "table": [
           {
            "cells": {
             "fill": {
              "color": "#EBF0F8"
             },
             "line": {
              "color": "white"
             }
            },
            "header": {
             "fill": {
              "color": "#C8D4E3"
             },
             "line": {
              "color": "white"
             }
            },
            "type": "table"
           }
          ]
         },
         "layout": {
          "annotationdefaults": {
           "arrowcolor": "#2a3f5f",
           "arrowhead": 0,
           "arrowwidth": 1
          },
          "autotypenumbers": "strict",
          "coloraxis": {
           "colorbar": {
            "outlinewidth": 0,
            "ticks": ""
           }
          },
          "colorscale": {
           "diverging": [
            [
             0,
             "#8e0152"
            ],
            [
             0.1,
             "#c51b7d"
            ],
            [
             0.2,
             "#de77ae"
            ],
            [
             0.3,
             "#f1b6da"
            ],
            [
             0.4,
             "#fde0ef"
            ],
            [
             0.5,
             "#f7f7f7"
            ],
            [
             0.6,
             "#e6f5d0"
            ],
            [
             0.7,
             "#b8e186"
            ],
            [
             0.8,
             "#7fbc41"
            ],
            [
             0.9,
             "#4d9221"
            ],
            [
             1,
             "#276419"
            ]
           ],
           "sequential": [
            [
             0,
             "#0d0887"
            ],
            [
             0.1111111111111111,
             "#46039f"
            ],
            [
             0.2222222222222222,
             "#7201a8"
            ],
            [
             0.3333333333333333,
             "#9c179e"
            ],
            [
             0.4444444444444444,
             "#bd3786"
            ],
            [
             0.5555555555555556,
             "#d8576b"
            ],
            [
             0.6666666666666666,
             "#ed7953"
            ],
            [
             0.7777777777777778,
             "#fb9f3a"
            ],
            [
             0.8888888888888888,
             "#fdca26"
            ],
            [
             1,
             "#f0f921"
            ]
           ],
           "sequentialminus": [
            [
             0,
             "#0d0887"
            ],
            [
             0.1111111111111111,
             "#46039f"
            ],
            [
             0.2222222222222222,
             "#7201a8"
            ],
            [
             0.3333333333333333,
             "#9c179e"
            ],
            [
             0.4444444444444444,
             "#bd3786"
            ],
            [
             0.5555555555555556,
             "#d8576b"
            ],
            [
             0.6666666666666666,
             "#ed7953"
            ],
            [
             0.7777777777777778,
             "#fb9f3a"
            ],
            [
             0.8888888888888888,
             "#fdca26"
            ],
            [
             1,
             "#f0f921"
            ]
           ]
          },
          "colorway": [
           "#636efa",
           "#EF553B",
           "#00cc96",
           "#ab63fa",
           "#FFA15A",
           "#19d3f3",
           "#FF6692",
           "#B6E880",
           "#FF97FF",
           "#FECB52"
          ],
          "font": {
           "color": "#2a3f5f"
          },
          "geo": {
           "bgcolor": "white",
           "lakecolor": "white",
           "landcolor": "#E5ECF6",
           "showlakes": true,
           "showland": true,
           "subunitcolor": "white"
          },
          "hoverlabel": {
           "align": "left"
          },
          "hovermode": "closest",
          "mapbox": {
           "style": "light"
          },
          "paper_bgcolor": "white",
          "plot_bgcolor": "#E5ECF6",
          "polar": {
           "angularaxis": {
            "gridcolor": "white",
            "linecolor": "white",
            "ticks": ""
           },
           "bgcolor": "#E5ECF6",
           "radialaxis": {
            "gridcolor": "white",
            "linecolor": "white",
            "ticks": ""
           }
          },
          "scene": {
           "xaxis": {
            "backgroundcolor": "#E5ECF6",
            "gridcolor": "white",
            "gridwidth": 2,
            "linecolor": "white",
            "showbackground": true,
            "ticks": "",
            "zerolinecolor": "white"
           },
           "yaxis": {
            "backgroundcolor": "#E5ECF6",
            "gridcolor": "white",
            "gridwidth": 2,
            "linecolor": "white",
            "showbackground": true,
            "ticks": "",
            "zerolinecolor": "white"
           },
           "zaxis": {
            "backgroundcolor": "#E5ECF6",
            "gridcolor": "white",
            "gridwidth": 2,
            "linecolor": "white",
            "showbackground": true,
            "ticks": "",
            "zerolinecolor": "white"
           }
          },
          "shapedefaults": {
           "line": {
            "color": "#2a3f5f"
           }
          },
          "ternary": {
           "aaxis": {
            "gridcolor": "white",
            "linecolor": "white",
            "ticks": ""
           },
           "baxis": {
            "gridcolor": "white",
            "linecolor": "white",
            "ticks": ""
           },
           "bgcolor": "#E5ECF6",
           "caxis": {
            "gridcolor": "white",
            "linecolor": "white",
            "ticks": ""
           }
          },
          "title": {
           "x": 0.05
          },
          "xaxis": {
           "automargin": true,
           "gridcolor": "white",
           "linecolor": "white",
           "ticks": "",
           "title": {
            "standoff": 15
           },
           "zerolinecolor": "white",
           "zerolinewidth": 2
          },
          "yaxis": {
           "automargin": true,
           "gridcolor": "white",
           "linecolor": "white",
           "ticks": "",
           "title": {
            "standoff": 15
           },
           "zerolinecolor": "white",
           "zerolinewidth": 2
          }
         }
        },
        "xaxis": {
         "anchor": "y",
         "domain": [
          0,
          1
         ],
         "title": {
          "text": "index"
         }
        },
        "yaxis": {
         "anchor": "x",
         "domain": [
          0,
          1
         ],
         "title": {
          "text": "0"
         }
        }
       }
      }
     },
     "metadata": {},
     "output_type": "display_data"
    }
   ],
   "source": [
    "nan_df = pd.DataFrame()\n",
    "values = []\n",
    "\n",
    "\n",
    "for column in df.columns:\n",
    "    nan_df[column] = [round(len(df[column].dropna())/len(df),2)]\n",
    "\n",
    "nan_df = nan_df.T\n",
    "    \n",
    "fig = px.bar(nan_df, x=nan_df.index, y=0)\n",
    "fig.show()"
   ]
  },
  {
   "cell_type": "code",
   "execution_count": 36,
   "metadata": {},
   "outputs": [],
   "source": [
    "df = df.drop(\"id_person_booking\", axis=1) # This columns only has 6% of the values filled"
   ]
  },
  {
   "cell_type": "code",
   "execution_count": 37,
   "metadata": {},
   "outputs": [
    {
     "data": {
      "text/plain": [
       "type                                        0\n",
       "cancellation                                0\n",
       "days_between_booking_arrival              182\n",
       "year_arrival_date                        2016\n",
       "month_arrival_date                          4\n",
       "week_number_arrival_date                   43\n",
       "day_of_month_arrival_date                  16\n",
       "num_weekend_nights                          2\n",
       "num_workweek_nights                         3\n",
       "num_adults                                  2\n",
       "num_children                              0.0\n",
       "num_babies                                  0\n",
       "breakfast                                   1\n",
       "country                                   DEU\n",
       "market_segment                              2\n",
       "distribution_channel                        2\n",
       "repeated_guest                              0\n",
       "num_previous_cancellations                  0\n",
       "num_previous_stays                          0\n",
       "reserved_room                               0\n",
       "changes_between_booking_arrival             0\n",
       "deposit_policy                     No Deposit\n",
       "id_travel_agency_booking                  7.0\n",
       "customer_type                               0\n",
       "avg_price                               70.44\n",
       "required_car_parking_spaces                 0\n",
       "total_of_special_requests                   2\n",
       "Name: 100000, dtype: object"
      ]
     },
     "execution_count": 37,
     "metadata": {},
     "output_type": "execute_result"
    }
   ],
   "source": [
    "df.iloc[100000]"
   ]
  },
  {
   "cell_type": "code",
   "execution_count": 38,
   "metadata": {},
   "outputs": [
    {
     "data": {
      "text/plain": [
       "array([dtype('int64'), dtype('float64'), dtype('int32'), dtype('O')],\n",
       "      dtype=object)"
      ]
     },
     "execution_count": 38,
     "metadata": {},
     "output_type": "execute_result"
    }
   ],
   "source": [
    "df.dtypes.unique()"
   ]
  },
  {
   "cell_type": "code",
   "execution_count": 39,
   "metadata": {},
   "outputs": [
    {
     "data": {
      "text/plain": [
       "True"
      ]
     },
     "execution_count": 39,
     "metadata": {},
     "output_type": "execute_result"
    }
   ],
   "source": [
    "numeric_columns = df.select_dtypes(include=[\"int64\", \"int32\", \"float64\"])\n",
    "non_numeric_columns = df.select_dtypes(include=[\"O\"])\n",
    "\n",
    "len(df.columns) == len(numeric_columns.columns) + len(non_numeric_columns.columns)"
   ]
  },
  {
   "cell_type": "code",
   "execution_count": 40,
   "metadata": {},
   "outputs": [
    {
     "data": {
      "text/html": [
       "<div>\n",
       "<style scoped>\n",
       "    .dataframe tbody tr th:only-of-type {\n",
       "        vertical-align: middle;\n",
       "    }\n",
       "\n",
       "    .dataframe tbody tr th {\n",
       "        vertical-align: top;\n",
       "    }\n",
       "\n",
       "    .dataframe thead th {\n",
       "        text-align: right;\n",
       "    }\n",
       "</style>\n",
       "<table border=\"1\" class=\"dataframe\">\n",
       "  <thead>\n",
       "    <tr style=\"text-align: right;\">\n",
       "      <th></th>\n",
       "      <th>column</th>\n",
       "      <th>mean</th>\n",
       "      <th>median</th>\n",
       "      <th>std</th>\n",
       "      <th>max</th>\n",
       "      <th>min</th>\n",
       "      <th>range</th>\n",
       "      <th>skew</th>\n",
       "      <th>kurt</th>\n",
       "    </tr>\n",
       "  </thead>\n",
       "  <tbody>\n",
       "    <tr>\n",
       "      <th>0</th>\n",
       "      <td>type</td>\n",
       "      <td>0.34</td>\n",
       "      <td>0.00</td>\n",
       "      <td>0.47</td>\n",
       "      <td>1.0</td>\n",
       "      <td>0.0</td>\n",
       "      <td>1.0</td>\n",
       "      <td>0.70</td>\n",
       "      <td>-1.51</td>\n",
       "    </tr>\n",
       "    <tr>\n",
       "      <th>1</th>\n",
       "      <td>cancellation</td>\n",
       "      <td>0.37</td>\n",
       "      <td>0.00</td>\n",
       "      <td>0.48</td>\n",
       "      <td>1.0</td>\n",
       "      <td>0.0</td>\n",
       "      <td>1.0</td>\n",
       "      <td>0.54</td>\n",
       "      <td>-1.71</td>\n",
       "    </tr>\n",
       "    <tr>\n",
       "      <th>2</th>\n",
       "      <td>days_between_booking_arrival</td>\n",
       "      <td>104.01</td>\n",
       "      <td>69.00</td>\n",
       "      <td>106.86</td>\n",
       "      <td>737.0</td>\n",
       "      <td>0.0</td>\n",
       "      <td>737.0</td>\n",
       "      <td>1.35</td>\n",
       "      <td>1.70</td>\n",
       "    </tr>\n",
       "    <tr>\n",
       "      <th>3</th>\n",
       "      <td>year_arrival_date</td>\n",
       "      <td>2016.16</td>\n",
       "      <td>2016.00</td>\n",
       "      <td>0.71</td>\n",
       "      <td>2017.0</td>\n",
       "      <td>2015.0</td>\n",
       "      <td>2.0</td>\n",
       "      <td>-0.23</td>\n",
       "      <td>-0.99</td>\n",
       "    </tr>\n",
       "    <tr>\n",
       "      <th>4</th>\n",
       "      <td>month_arrival_date</td>\n",
       "      <td>6.34</td>\n",
       "      <td>6.00</td>\n",
       "      <td>3.73</td>\n",
       "      <td>12.0</td>\n",
       "      <td>1.0</td>\n",
       "      <td>11.0</td>\n",
       "      <td>0.05</td>\n",
       "      <td>-1.44</td>\n",
       "    </tr>\n",
       "    <tr>\n",
       "      <th>5</th>\n",
       "      <td>week_number_arrival_date</td>\n",
       "      <td>27.17</td>\n",
       "      <td>28.00</td>\n",
       "      <td>13.61</td>\n",
       "      <td>53.0</td>\n",
       "      <td>1.0</td>\n",
       "      <td>52.0</td>\n",
       "      <td>-0.01</td>\n",
       "      <td>-0.99</td>\n",
       "    </tr>\n",
       "    <tr>\n",
       "      <th>6</th>\n",
       "      <td>day_of_month_arrival_date</td>\n",
       "      <td>15.80</td>\n",
       "      <td>16.00</td>\n",
       "      <td>8.78</td>\n",
       "      <td>31.0</td>\n",
       "      <td>1.0</td>\n",
       "      <td>30.0</td>\n",
       "      <td>-0.00</td>\n",
       "      <td>-1.19</td>\n",
       "    </tr>\n",
       "    <tr>\n",
       "      <th>7</th>\n",
       "      <td>num_weekend_nights</td>\n",
       "      <td>0.93</td>\n",
       "      <td>1.00</td>\n",
       "      <td>1.00</td>\n",
       "      <td>19.0</td>\n",
       "      <td>0.0</td>\n",
       "      <td>19.0</td>\n",
       "      <td>1.38</td>\n",
       "      <td>7.17</td>\n",
       "    </tr>\n",
       "    <tr>\n",
       "      <th>8</th>\n",
       "      <td>num_workweek_nights</td>\n",
       "      <td>2.50</td>\n",
       "      <td>2.00</td>\n",
       "      <td>1.91</td>\n",
       "      <td>50.0</td>\n",
       "      <td>0.0</td>\n",
       "      <td>50.0</td>\n",
       "      <td>2.86</td>\n",
       "      <td>24.28</td>\n",
       "    </tr>\n",
       "    <tr>\n",
       "      <th>9</th>\n",
       "      <td>num_adults</td>\n",
       "      <td>1.86</td>\n",
       "      <td>2.00</td>\n",
       "      <td>0.58</td>\n",
       "      <td>55.0</td>\n",
       "      <td>0.0</td>\n",
       "      <td>55.0</td>\n",
       "      <td>18.32</td>\n",
       "      <td>1352.12</td>\n",
       "    </tr>\n",
       "    <tr>\n",
       "      <th>10</th>\n",
       "      <td>num_children</td>\n",
       "      <td>0.10</td>\n",
       "      <td>0.00</td>\n",
       "      <td>0.40</td>\n",
       "      <td>10.0</td>\n",
       "      <td>0.0</td>\n",
       "      <td>10.0</td>\n",
       "      <td>4.11</td>\n",
       "      <td>18.67</td>\n",
       "    </tr>\n",
       "    <tr>\n",
       "      <th>11</th>\n",
       "      <td>num_babies</td>\n",
       "      <td>0.01</td>\n",
       "      <td>0.00</td>\n",
       "      <td>0.10</td>\n",
       "      <td>10.0</td>\n",
       "      <td>0.0</td>\n",
       "      <td>10.0</td>\n",
       "      <td>24.65</td>\n",
       "      <td>1633.95</td>\n",
       "    </tr>\n",
       "    <tr>\n",
       "      <th>12</th>\n",
       "      <td>breakfast</td>\n",
       "      <td>0.77</td>\n",
       "      <td>1.00</td>\n",
       "      <td>0.42</td>\n",
       "      <td>1.0</td>\n",
       "      <td>0.0</td>\n",
       "      <td>1.0</td>\n",
       "      <td>-1.30</td>\n",
       "      <td>-0.30</td>\n",
       "    </tr>\n",
       "    <tr>\n",
       "      <th>13</th>\n",
       "      <td>market_segment</td>\n",
       "      <td>2.47</td>\n",
       "      <td>2.00</td>\n",
       "      <td>1.42</td>\n",
       "      <td>7.0</td>\n",
       "      <td>0.0</td>\n",
       "      <td>7.0</td>\n",
       "      <td>0.40</td>\n",
       "      <td>-0.09</td>\n",
       "    </tr>\n",
       "    <tr>\n",
       "      <th>14</th>\n",
       "      <td>distribution_channel</td>\n",
       "      <td>1.70</td>\n",
       "      <td>2.00</td>\n",
       "      <td>0.68</td>\n",
       "      <td>4.0</td>\n",
       "      <td>0.0</td>\n",
       "      <td>4.0</td>\n",
       "      <td>-1.84</td>\n",
       "      <td>2.08</td>\n",
       "    </tr>\n",
       "    <tr>\n",
       "      <th>15</th>\n",
       "      <td>repeated_guest</td>\n",
       "      <td>0.03</td>\n",
       "      <td>0.00</td>\n",
       "      <td>0.18</td>\n",
       "      <td>1.0</td>\n",
       "      <td>0.0</td>\n",
       "      <td>1.0</td>\n",
       "      <td>5.33</td>\n",
       "      <td>26.37</td>\n",
       "    </tr>\n",
       "    <tr>\n",
       "      <th>16</th>\n",
       "      <td>num_previous_cancellations</td>\n",
       "      <td>0.09</td>\n",
       "      <td>0.00</td>\n",
       "      <td>0.84</td>\n",
       "      <td>26.0</td>\n",
       "      <td>0.0</td>\n",
       "      <td>26.0</td>\n",
       "      <td>24.46</td>\n",
       "      <td>674.07</td>\n",
       "    </tr>\n",
       "    <tr>\n",
       "      <th>17</th>\n",
       "      <td>num_previous_stays</td>\n",
       "      <td>0.14</td>\n",
       "      <td>0.00</td>\n",
       "      <td>1.50</td>\n",
       "      <td>72.0</td>\n",
       "      <td>0.0</td>\n",
       "      <td>72.0</td>\n",
       "      <td>23.54</td>\n",
       "      <td>767.25</td>\n",
       "    </tr>\n",
       "    <tr>\n",
       "      <th>18</th>\n",
       "      <td>reserved_room</td>\n",
       "      <td>0.99</td>\n",
       "      <td>0.00</td>\n",
       "      <td>1.70</td>\n",
       "      <td>9.0</td>\n",
       "      <td>0.0</td>\n",
       "      <td>9.0</td>\n",
       "      <td>1.44</td>\n",
       "      <td>0.89</td>\n",
       "    </tr>\n",
       "    <tr>\n",
       "      <th>19</th>\n",
       "      <td>changes_between_booking_arrival</td>\n",
       "      <td>0.22</td>\n",
       "      <td>0.00</td>\n",
       "      <td>0.65</td>\n",
       "      <td>21.0</td>\n",
       "      <td>0.0</td>\n",
       "      <td>21.0</td>\n",
       "      <td>6.00</td>\n",
       "      <td>79.39</td>\n",
       "    </tr>\n",
       "    <tr>\n",
       "      <th>20</th>\n",
       "      <td>id_travel_agency_booking</td>\n",
       "      <td>86.69</td>\n",
       "      <td>14.00</td>\n",
       "      <td>110.77</td>\n",
       "      <td>535.0</td>\n",
       "      <td>1.0</td>\n",
       "      <td>534.0</td>\n",
       "      <td>1.09</td>\n",
       "      <td>-0.01</td>\n",
       "    </tr>\n",
       "    <tr>\n",
       "      <th>21</th>\n",
       "      <td>customer_type</td>\n",
       "      <td>0.47</td>\n",
       "      <td>0.00</td>\n",
       "      <td>0.84</td>\n",
       "      <td>3.0</td>\n",
       "      <td>0.0</td>\n",
       "      <td>3.0</td>\n",
       "      <td>1.30</td>\n",
       "      <td>-0.15</td>\n",
       "    </tr>\n",
       "    <tr>\n",
       "      <th>22</th>\n",
       "      <td>avg_price</td>\n",
       "      <td>101.72</td>\n",
       "      <td>94.58</td>\n",
       "      <td>47.82</td>\n",
       "      <td>300.0</td>\n",
       "      <td>0.0</td>\n",
       "      <td>300.0</td>\n",
       "      <td>0.94</td>\n",
       "      <td>1.60</td>\n",
       "    </tr>\n",
       "    <tr>\n",
       "      <th>23</th>\n",
       "      <td>required_car_parking_spaces</td>\n",
       "      <td>0.06</td>\n",
       "      <td>0.00</td>\n",
       "      <td>0.25</td>\n",
       "      <td>8.0</td>\n",
       "      <td>0.0</td>\n",
       "      <td>8.0</td>\n",
       "      <td>4.16</td>\n",
       "      <td>30.00</td>\n",
       "    </tr>\n",
       "    <tr>\n",
       "      <th>24</th>\n",
       "      <td>total_of_special_requests</td>\n",
       "      <td>0.57</td>\n",
       "      <td>0.00</td>\n",
       "      <td>0.79</td>\n",
       "      <td>5.0</td>\n",
       "      <td>0.0</td>\n",
       "      <td>5.0</td>\n",
       "      <td>1.35</td>\n",
       "      <td>1.49</td>\n",
       "    </tr>\n",
       "  </tbody>\n",
       "</table>\n",
       "</div>"
      ],
      "text/plain": [
       "                             column     mean   median     std     max     min  \\\n",
       "0                              type     0.34     0.00    0.47     1.0     0.0   \n",
       "1                      cancellation     0.37     0.00    0.48     1.0     0.0   \n",
       "2      days_between_booking_arrival   104.01    69.00  106.86   737.0     0.0   \n",
       "3                 year_arrival_date  2016.16  2016.00    0.71  2017.0  2015.0   \n",
       "4                month_arrival_date     6.34     6.00    3.73    12.0     1.0   \n",
       "5          week_number_arrival_date    27.17    28.00   13.61    53.0     1.0   \n",
       "6         day_of_month_arrival_date    15.80    16.00    8.78    31.0     1.0   \n",
       "7                num_weekend_nights     0.93     1.00    1.00    19.0     0.0   \n",
       "8               num_workweek_nights     2.50     2.00    1.91    50.0     0.0   \n",
       "9                        num_adults     1.86     2.00    0.58    55.0     0.0   \n",
       "10                     num_children     0.10     0.00    0.40    10.0     0.0   \n",
       "11                       num_babies     0.01     0.00    0.10    10.0     0.0   \n",
       "12                        breakfast     0.77     1.00    0.42     1.0     0.0   \n",
       "13                   market_segment     2.47     2.00    1.42     7.0     0.0   \n",
       "14             distribution_channel     1.70     2.00    0.68     4.0     0.0   \n",
       "15                   repeated_guest     0.03     0.00    0.18     1.0     0.0   \n",
       "16       num_previous_cancellations     0.09     0.00    0.84    26.0     0.0   \n",
       "17               num_previous_stays     0.14     0.00    1.50    72.0     0.0   \n",
       "18                    reserved_room     0.99     0.00    1.70     9.0     0.0   \n",
       "19  changes_between_booking_arrival     0.22     0.00    0.65    21.0     0.0   \n",
       "20         id_travel_agency_booking    86.69    14.00  110.77   535.0     1.0   \n",
       "21                    customer_type     0.47     0.00    0.84     3.0     0.0   \n",
       "22                        avg_price   101.72    94.58   47.82   300.0     0.0   \n",
       "23      required_car_parking_spaces     0.06     0.00    0.25     8.0     0.0   \n",
       "24        total_of_special_requests     0.57     0.00    0.79     5.0     0.0   \n",
       "\n",
       "    range   skew     kurt  \n",
       "0     1.0   0.70    -1.51  \n",
       "1     1.0   0.54    -1.71  \n",
       "2   737.0   1.35     1.70  \n",
       "3     2.0  -0.23    -0.99  \n",
       "4    11.0   0.05    -1.44  \n",
       "5    52.0  -0.01    -0.99  \n",
       "6    30.0  -0.00    -1.19  \n",
       "7    19.0   1.38     7.17  \n",
       "8    50.0   2.86    24.28  \n",
       "9    55.0  18.32  1352.12  \n",
       "10   10.0   4.11    18.67  \n",
       "11   10.0  24.65  1633.95  \n",
       "12    1.0  -1.30    -0.30  \n",
       "13    7.0   0.40    -0.09  \n",
       "14    4.0  -1.84     2.08  \n",
       "15    1.0   5.33    26.37  \n",
       "16   26.0  24.46   674.07  \n",
       "17   72.0  23.54   767.25  \n",
       "18    9.0   1.44     0.89  \n",
       "19   21.0   6.00    79.39  \n",
       "20  534.0   1.09    -0.01  \n",
       "21    3.0   1.30    -0.15  \n",
       "22  300.0   0.94     1.60  \n",
       "23    8.0   4.16    30.00  \n",
       "24    5.0   1.35     1.49  "
      ]
     },
     "execution_count": 40,
     "metadata": {},
     "output_type": "execute_result"
    }
   ],
   "source": [
    "# Tendency\n",
    "mean = pd.DataFrame(numeric_columns.mean()).round(2).T\n",
    "median = pd.DataFrame(numeric_columns.median()).round(2).T\n",
    "\n",
    "# Dispersion\n",
    "std = pd.DataFrame(numeric_columns.std()).round(2).T\n",
    "v_max = pd.DataFrame(numeric_columns.max()).round(2).T\n",
    "v_min = pd.DataFrame(numeric_columns.min()).round(2).T\n",
    "\n",
    "x = lambda x: x.max() - x.min()\n",
    "v_range = pd.DataFrame(numeric_columns.apply(x)).T\n",
    "\n",
    "x = lambda x: x.skew().round(2)\n",
    "skew = pd.DataFrame(numeric_columns.apply(x)).T\n",
    "\n",
    "x = lambda x: x.kurt().round(2)\n",
    "kurt = pd.DataFrame(numeric_columns.apply(x)).T\n",
    "\n",
    "data_description = pd.concat([mean, median, std, v_max, v_min, v_range, skew, kurt]).T.reset_index()\n",
    "data_description.columns = [\"column\", \"mean\", \"median\", \"std\", \"max\", \"min\", \"range\", \"skew\", \"kurt\"]\n",
    "data_description"
   ]
  },
  {
   "cell_type": "code",
   "execution_count": 60,
   "metadata": {},
   "outputs": [
    {
     "data": {
      "text/html": [
       "<div>\n",
       "<style scoped>\n",
       "    .dataframe tbody tr th:only-of-type {\n",
       "        vertical-align: middle;\n",
       "    }\n",
       "\n",
       "    .dataframe tbody tr th {\n",
       "        vertical-align: top;\n",
       "    }\n",
       "\n",
       "    .dataframe thead th {\n",
       "        text-align: right;\n",
       "    }\n",
       "</style>\n",
       "<table border=\"1\" class=\"dataframe\">\n",
       "  <thead>\n",
       "    <tr style=\"text-align: right;\">\n",
       "      <th></th>\n",
       "      <th>column</th>\n",
       "      <th>mean</th>\n",
       "      <th>median</th>\n",
       "      <th>std</th>\n",
       "      <th>max</th>\n",
       "      <th>min</th>\n",
       "      <th>range</th>\n",
       "      <th>skew</th>\n",
       "      <th>kurt</th>\n",
       "    </tr>\n",
       "  </thead>\n",
       "  <tbody>\n",
       "    <tr>\n",
       "      <th>7</th>\n",
       "      <td>num_weekend_nights</td>\n",
       "      <td>0.93</td>\n",
       "      <td>1.0</td>\n",
       "      <td>1.00</td>\n",
       "      <td>19.0</td>\n",
       "      <td>0.0</td>\n",
       "      <td>19.0</td>\n",
       "      <td>1.38</td>\n",
       "      <td>7.17</td>\n",
       "    </tr>\n",
       "    <tr>\n",
       "      <th>8</th>\n",
       "      <td>num_workweek_nights</td>\n",
       "      <td>2.50</td>\n",
       "      <td>2.0</td>\n",
       "      <td>1.91</td>\n",
       "      <td>50.0</td>\n",
       "      <td>0.0</td>\n",
       "      <td>50.0</td>\n",
       "      <td>2.86</td>\n",
       "      <td>24.28</td>\n",
       "    </tr>\n",
       "    <tr>\n",
       "      <th>9</th>\n",
       "      <td>num_adults</td>\n",
       "      <td>1.86</td>\n",
       "      <td>2.0</td>\n",
       "      <td>0.58</td>\n",
       "      <td>55.0</td>\n",
       "      <td>0.0</td>\n",
       "      <td>55.0</td>\n",
       "      <td>18.32</td>\n",
       "      <td>1352.12</td>\n",
       "    </tr>\n",
       "    <tr>\n",
       "      <th>10</th>\n",
       "      <td>num_children</td>\n",
       "      <td>0.10</td>\n",
       "      <td>0.0</td>\n",
       "      <td>0.40</td>\n",
       "      <td>10.0</td>\n",
       "      <td>0.0</td>\n",
       "      <td>10.0</td>\n",
       "      <td>4.11</td>\n",
       "      <td>18.67</td>\n",
       "    </tr>\n",
       "    <tr>\n",
       "      <th>11</th>\n",
       "      <td>num_babies</td>\n",
       "      <td>0.01</td>\n",
       "      <td>0.0</td>\n",
       "      <td>0.10</td>\n",
       "      <td>10.0</td>\n",
       "      <td>0.0</td>\n",
       "      <td>10.0</td>\n",
       "      <td>24.65</td>\n",
       "      <td>1633.95</td>\n",
       "    </tr>\n",
       "    <tr>\n",
       "      <th>15</th>\n",
       "      <td>repeated_guest</td>\n",
       "      <td>0.03</td>\n",
       "      <td>0.0</td>\n",
       "      <td>0.18</td>\n",
       "      <td>1.0</td>\n",
       "      <td>0.0</td>\n",
       "      <td>1.0</td>\n",
       "      <td>5.33</td>\n",
       "      <td>26.37</td>\n",
       "    </tr>\n",
       "    <tr>\n",
       "      <th>16</th>\n",
       "      <td>num_previous_cancellations</td>\n",
       "      <td>0.09</td>\n",
       "      <td>0.0</td>\n",
       "      <td>0.84</td>\n",
       "      <td>26.0</td>\n",
       "      <td>0.0</td>\n",
       "      <td>26.0</td>\n",
       "      <td>24.46</td>\n",
       "      <td>674.07</td>\n",
       "    </tr>\n",
       "    <tr>\n",
       "      <th>17</th>\n",
       "      <td>num_previous_stays</td>\n",
       "      <td>0.14</td>\n",
       "      <td>0.0</td>\n",
       "      <td>1.50</td>\n",
       "      <td>72.0</td>\n",
       "      <td>0.0</td>\n",
       "      <td>72.0</td>\n",
       "      <td>23.54</td>\n",
       "      <td>767.25</td>\n",
       "    </tr>\n",
       "    <tr>\n",
       "      <th>19</th>\n",
       "      <td>changes_between_booking_arrival</td>\n",
       "      <td>0.22</td>\n",
       "      <td>0.0</td>\n",
       "      <td>0.65</td>\n",
       "      <td>21.0</td>\n",
       "      <td>0.0</td>\n",
       "      <td>21.0</td>\n",
       "      <td>6.00</td>\n",
       "      <td>79.39</td>\n",
       "    </tr>\n",
       "    <tr>\n",
       "      <th>23</th>\n",
       "      <td>required_car_parking_spaces</td>\n",
       "      <td>0.06</td>\n",
       "      <td>0.0</td>\n",
       "      <td>0.25</td>\n",
       "      <td>8.0</td>\n",
       "      <td>0.0</td>\n",
       "      <td>8.0</td>\n",
       "      <td>4.16</td>\n",
       "      <td>30.00</td>\n",
       "    </tr>\n",
       "  </tbody>\n",
       "</table>\n",
       "</div>"
      ],
      "text/plain": [
       "                             column  mean  median   std   max  min  range  \\\n",
       "7                num_weekend_nights  0.93     1.0  1.00  19.0  0.0   19.0   \n",
       "8               num_workweek_nights  2.50     2.0  1.91  50.0  0.0   50.0   \n",
       "9                        num_adults  1.86     2.0  0.58  55.0  0.0   55.0   \n",
       "10                     num_children  0.10     0.0  0.40  10.0  0.0   10.0   \n",
       "11                       num_babies  0.01     0.0  0.10  10.0  0.0   10.0   \n",
       "15                   repeated_guest  0.03     0.0  0.18   1.0  0.0    1.0   \n",
       "16       num_previous_cancellations  0.09     0.0  0.84  26.0  0.0   26.0   \n",
       "17               num_previous_stays  0.14     0.0  1.50  72.0  0.0   72.0   \n",
       "19  changes_between_booking_arrival  0.22     0.0  0.65  21.0  0.0   21.0   \n",
       "23      required_car_parking_spaces  0.06     0.0  0.25   8.0  0.0    8.0   \n",
       "\n",
       "     skew     kurt  \n",
       "7    1.38     7.17  \n",
       "8    2.86    24.28  \n",
       "9   18.32  1352.12  \n",
       "10   4.11    18.67  \n",
       "11  24.65  1633.95  \n",
       "15   5.33    26.37  \n",
       "16  24.46   674.07  \n",
       "17  23.54   767.25  \n",
       "19   6.00    79.39  \n",
       "23   4.16    30.00  "
      ]
     },
     "execution_count": 60,
     "metadata": {},
     "output_type": "execute_result"
    }
   ],
   "source": [
    "data_description[(data_description[\"kurt\"] > 3) | (data_description[\"kurt\"] < -3)]"
   ]
  },
  {
   "cell_type": "markdown",
   "metadata": {},
   "source": [
    "# Skew and Kurt (Outliers?)\n",
    "\n",
    "- num_weekend_nights\n",
    "- num_workweek_nights\n",
    "- num_adults\n",
    "- num_children\n",
    "- num_babies\n",
    "- num_previous_cancellations\n",
    "- num_previous_stays\n",
    "- changes_between_booking_arrival\n",
    "- required_car_parking_spaces"
   ]
  },
  {
   "cell_type": "code",
   "execution_count": 79,
   "metadata": {},
   "outputs": [
    {
     "data": {
      "text/plain": [
       "20337"
      ]
     },
     "execution_count": 79,
     "metadata": {},
     "output_type": "execute_result"
    }
   ],
   "source": [
    "df[df[\"year_arrival_date\"] == 2016][\"cancellation\"].sum()"
   ]
  },
  {
   "cell_type": "code",
   "execution_count": 105,
   "metadata": {},
   "outputs": [
    {
     "data": {
      "text/html": [
       "<div>\n",
       "<style scoped>\n",
       "    .dataframe tbody tr th:only-of-type {\n",
       "        vertical-align: middle;\n",
       "    }\n",
       "\n",
       "    .dataframe tbody tr th {\n",
       "        vertical-align: top;\n",
       "    }\n",
       "\n",
       "    .dataframe thead th {\n",
       "        text-align: right;\n",
       "    }\n",
       "</style>\n",
       "<table border=\"1\" class=\"dataframe\">\n",
       "  <thead>\n",
       "    <tr style=\"text-align: right;\">\n",
       "      <th></th>\n",
       "      <th>type</th>\n",
       "      <th>cancellation</th>\n",
       "      <th>days_between_booking_arrival</th>\n",
       "      <th>year_arrival_date</th>\n",
       "      <th>month_arrival_date</th>\n",
       "      <th>week_number_arrival_date</th>\n",
       "      <th>day_of_month_arrival_date</th>\n",
       "      <th>num_weekend_nights</th>\n",
       "      <th>num_workweek_nights</th>\n",
       "      <th>num_adults</th>\n",
       "      <th>...</th>\n",
       "      <th>num_previous_cancellations</th>\n",
       "      <th>num_previous_stays</th>\n",
       "      <th>reserved_room</th>\n",
       "      <th>changes_between_booking_arrival</th>\n",
       "      <th>deposit_policy</th>\n",
       "      <th>id_travel_agency_booking</th>\n",
       "      <th>customer_type</th>\n",
       "      <th>avg_price</th>\n",
       "      <th>required_car_parking_spaces</th>\n",
       "      <th>total_of_special_requests</th>\n",
       "    </tr>\n",
       "  </thead>\n",
       "  <tbody>\n",
       "    <tr>\n",
       "      <th>13789</th>\n",
       "      <td>1</td>\n",
       "      <td>1</td>\n",
       "      <td>24</td>\n",
       "      <td>2017</td>\n",
       "      <td>2</td>\n",
       "      <td>35</td>\n",
       "      <td>31</td>\n",
       "      <td>0</td>\n",
       "      <td>1</td>\n",
       "      <td>1</td>\n",
       "      <td>...</td>\n",
       "      <td>0</td>\n",
       "      <td>0</td>\n",
       "      <td>0</td>\n",
       "      <td>0</td>\n",
       "      <td>No Deposit</td>\n",
       "      <td>NaN</td>\n",
       "      <td>2</td>\n",
       "      <td>177.50</td>\n",
       "      <td>0</td>\n",
       "      <td>1</td>\n",
       "    </tr>\n",
       "    <tr>\n",
       "      <th>13790</th>\n",
       "      <td>1</td>\n",
       "      <td>1</td>\n",
       "      <td>95</td>\n",
       "      <td>2017</td>\n",
       "      <td>2</td>\n",
       "      <td>35</td>\n",
       "      <td>31</td>\n",
       "      <td>0</td>\n",
       "      <td>2</td>\n",
       "      <td>2</td>\n",
       "      <td>...</td>\n",
       "      <td>0</td>\n",
       "      <td>0</td>\n",
       "      <td>6</td>\n",
       "      <td>0</td>\n",
       "      <td>No Deposit</td>\n",
       "      <td>241.0</td>\n",
       "      <td>0</td>\n",
       "      <td>290.00</td>\n",
       "      <td>0</td>\n",
       "      <td>2</td>\n",
       "    </tr>\n",
       "    <tr>\n",
       "      <th>13791</th>\n",
       "      <td>1</td>\n",
       "      <td>1</td>\n",
       "      <td>45</td>\n",
       "      <td>2017</td>\n",
       "      <td>2</td>\n",
       "      <td>35</td>\n",
       "      <td>31</td>\n",
       "      <td>0</td>\n",
       "      <td>1</td>\n",
       "      <td>2</td>\n",
       "      <td>...</td>\n",
       "      <td>0</td>\n",
       "      <td>0</td>\n",
       "      <td>0</td>\n",
       "      <td>0</td>\n",
       "      <td>No Deposit</td>\n",
       "      <td>250.0</td>\n",
       "      <td>0</td>\n",
       "      <td>185.00</td>\n",
       "      <td>0</td>\n",
       "      <td>0</td>\n",
       "    </tr>\n",
       "    <tr>\n",
       "      <th>13792</th>\n",
       "      <td>1</td>\n",
       "      <td>1</td>\n",
       "      <td>24</td>\n",
       "      <td>2017</td>\n",
       "      <td>2</td>\n",
       "      <td>35</td>\n",
       "      <td>31</td>\n",
       "      <td>0</td>\n",
       "      <td>1</td>\n",
       "      <td>2</td>\n",
       "      <td>...</td>\n",
       "      <td>0</td>\n",
       "      <td>0</td>\n",
       "      <td>0</td>\n",
       "      <td>0</td>\n",
       "      <td>No Deposit</td>\n",
       "      <td>NaN</td>\n",
       "      <td>2</td>\n",
       "      <td>202.00</td>\n",
       "      <td>0</td>\n",
       "      <td>4</td>\n",
       "    </tr>\n",
       "    <tr>\n",
       "      <th>13793</th>\n",
       "      <td>1</td>\n",
       "      <td>1</td>\n",
       "      <td>17</td>\n",
       "      <td>2017</td>\n",
       "      <td>2</td>\n",
       "      <td>35</td>\n",
       "      <td>31</td>\n",
       "      <td>0</td>\n",
       "      <td>3</td>\n",
       "      <td>2</td>\n",
       "      <td>...</td>\n",
       "      <td>0</td>\n",
       "      <td>0</td>\n",
       "      <td>0</td>\n",
       "      <td>0</td>\n",
       "      <td>No Deposit</td>\n",
       "      <td>240.0</td>\n",
       "      <td>0</td>\n",
       "      <td>207.00</td>\n",
       "      <td>0</td>\n",
       "      <td>2</td>\n",
       "    </tr>\n",
       "    <tr>\n",
       "      <th>...</th>\n",
       "      <td>...</td>\n",
       "      <td>...</td>\n",
       "      <td>...</td>\n",
       "      <td>...</td>\n",
       "      <td>...</td>\n",
       "      <td>...</td>\n",
       "      <td>...</td>\n",
       "      <td>...</td>\n",
       "      <td>...</td>\n",
       "      <td>...</td>\n",
       "      <td>...</td>\n",
       "      <td>...</td>\n",
       "      <td>...</td>\n",
       "      <td>...</td>\n",
       "      <td>...</td>\n",
       "      <td>...</td>\n",
       "      <td>...</td>\n",
       "      <td>...</td>\n",
       "      <td>...</td>\n",
       "      <td>...</td>\n",
       "      <td>...</td>\n",
       "    </tr>\n",
       "    <tr>\n",
       "      <th>119381</th>\n",
       "      <td>0</td>\n",
       "      <td>0</td>\n",
       "      <td>188</td>\n",
       "      <td>2017</td>\n",
       "      <td>2</td>\n",
       "      <td>35</td>\n",
       "      <td>31</td>\n",
       "      <td>2</td>\n",
       "      <td>3</td>\n",
       "      <td>2</td>\n",
       "      <td>...</td>\n",
       "      <td>0</td>\n",
       "      <td>0</td>\n",
       "      <td>0</td>\n",
       "      <td>0</td>\n",
       "      <td>No Deposit</td>\n",
       "      <td>14.0</td>\n",
       "      <td>0</td>\n",
       "      <td>99.00</td>\n",
       "      <td>0</td>\n",
       "      <td>0</td>\n",
       "    </tr>\n",
       "    <tr>\n",
       "      <th>119383</th>\n",
       "      <td>0</td>\n",
       "      <td>0</td>\n",
       "      <td>164</td>\n",
       "      <td>2017</td>\n",
       "      <td>2</td>\n",
       "      <td>35</td>\n",
       "      <td>31</td>\n",
       "      <td>2</td>\n",
       "      <td>4</td>\n",
       "      <td>2</td>\n",
       "      <td>...</td>\n",
       "      <td>0</td>\n",
       "      <td>0</td>\n",
       "      <td>0</td>\n",
       "      <td>0</td>\n",
       "      <td>No Deposit</td>\n",
       "      <td>42.0</td>\n",
       "      <td>0</td>\n",
       "      <td>87.60</td>\n",
       "      <td>0</td>\n",
       "      <td>0</td>\n",
       "    </tr>\n",
       "    <tr>\n",
       "      <th>119386</th>\n",
       "      <td>0</td>\n",
       "      <td>0</td>\n",
       "      <td>102</td>\n",
       "      <td>2017</td>\n",
       "      <td>2</td>\n",
       "      <td>35</td>\n",
       "      <td>31</td>\n",
       "      <td>2</td>\n",
       "      <td>5</td>\n",
       "      <td>3</td>\n",
       "      <td>...</td>\n",
       "      <td>0</td>\n",
       "      <td>0</td>\n",
       "      <td>4</td>\n",
       "      <td>0</td>\n",
       "      <td>No Deposit</td>\n",
       "      <td>9.0</td>\n",
       "      <td>0</td>\n",
       "      <td>225.43</td>\n",
       "      <td>0</td>\n",
       "      <td>2</td>\n",
       "    </tr>\n",
       "    <tr>\n",
       "      <th>119387</th>\n",
       "      <td>0</td>\n",
       "      <td>0</td>\n",
       "      <td>34</td>\n",
       "      <td>2017</td>\n",
       "      <td>2</td>\n",
       "      <td>35</td>\n",
       "      <td>31</td>\n",
       "      <td>2</td>\n",
       "      <td>5</td>\n",
       "      <td>2</td>\n",
       "      <td>...</td>\n",
       "      <td>0</td>\n",
       "      <td>0</td>\n",
       "      <td>3</td>\n",
       "      <td>0</td>\n",
       "      <td>No Deposit</td>\n",
       "      <td>9.0</td>\n",
       "      <td>0</td>\n",
       "      <td>157.71</td>\n",
       "      <td>0</td>\n",
       "      <td>4</td>\n",
       "    </tr>\n",
       "    <tr>\n",
       "      <th>119388</th>\n",
       "      <td>0</td>\n",
       "      <td>0</td>\n",
       "      <td>109</td>\n",
       "      <td>2017</td>\n",
       "      <td>2</td>\n",
       "      <td>35</td>\n",
       "      <td>31</td>\n",
       "      <td>2</td>\n",
       "      <td>5</td>\n",
       "      <td>2</td>\n",
       "      <td>...</td>\n",
       "      <td>0</td>\n",
       "      <td>0</td>\n",
       "      <td>0</td>\n",
       "      <td>0</td>\n",
       "      <td>No Deposit</td>\n",
       "      <td>89.0</td>\n",
       "      <td>0</td>\n",
       "      <td>104.40</td>\n",
       "      <td>0</td>\n",
       "      <td>0</td>\n",
       "    </tr>\n",
       "  </tbody>\n",
       "</table>\n",
       "<p>134 rows × 27 columns</p>\n",
       "</div>"
      ],
      "text/plain": [
       "        type  cancellation  days_between_booking_arrival  year_arrival_date  \\\n",
       "13789      1             1                            24               2017   \n",
       "13790      1             1                            95               2017   \n",
       "13791      1             1                            45               2017   \n",
       "13792      1             1                            24               2017   \n",
       "13793      1             1                            17               2017   \n",
       "...      ...           ...                           ...                ...   \n",
       "119381     0             0                           188               2017   \n",
       "119383     0             0                           164               2017   \n",
       "119386     0             0                           102               2017   \n",
       "119387     0             0                            34               2017   \n",
       "119388     0             0                           109               2017   \n",
       "\n",
       "        month_arrival_date  week_number_arrival_date  \\\n",
       "13789                    2                        35   \n",
       "13790                    2                        35   \n",
       "13791                    2                        35   \n",
       "13792                    2                        35   \n",
       "13793                    2                        35   \n",
       "...                    ...                       ...   \n",
       "119381                   2                        35   \n",
       "119383                   2                        35   \n",
       "119386                   2                        35   \n",
       "119387                   2                        35   \n",
       "119388                   2                        35   \n",
       "\n",
       "        day_of_month_arrival_date  num_weekend_nights  num_workweek_nights  \\\n",
       "13789                          31                   0                    1   \n",
       "13790                          31                   0                    2   \n",
       "13791                          31                   0                    1   \n",
       "13792                          31                   0                    1   \n",
       "13793                          31                   0                    3   \n",
       "...                           ...                 ...                  ...   \n",
       "119381                         31                   2                    3   \n",
       "119383                         31                   2                    4   \n",
       "119386                         31                   2                    5   \n",
       "119387                         31                   2                    5   \n",
       "119388                         31                   2                    5   \n",
       "\n",
       "        num_adults  ...  num_previous_cancellations  num_previous_stays  \\\n",
       "13789            1  ...                           0                   0   \n",
       "13790            2  ...                           0                   0   \n",
       "13791            2  ...                           0                   0   \n",
       "13792            2  ...                           0                   0   \n",
       "13793            2  ...                           0                   0   \n",
       "...            ...  ...                         ...                 ...   \n",
       "119381           2  ...                           0                   0   \n",
       "119383           2  ...                           0                   0   \n",
       "119386           3  ...                           0                   0   \n",
       "119387           2  ...                           0                   0   \n",
       "119388           2  ...                           0                   0   \n",
       "\n",
       "        reserved_room changes_between_booking_arrival  deposit_policy  \\\n",
       "13789               0                               0      No Deposit   \n",
       "13790               6                               0      No Deposit   \n",
       "13791               0                               0      No Deposit   \n",
       "13792               0                               0      No Deposit   \n",
       "13793               0                               0      No Deposit   \n",
       "...               ...                             ...             ...   \n",
       "119381              0                               0      No Deposit   \n",
       "119383              0                               0      No Deposit   \n",
       "119386              4                               0      No Deposit   \n",
       "119387              3                               0      No Deposit   \n",
       "119388              0                               0      No Deposit   \n",
       "\n",
       "        id_travel_agency_booking  customer_type  avg_price  \\\n",
       "13789                        NaN              2     177.50   \n",
       "13790                      241.0              0     290.00   \n",
       "13791                      250.0              0     185.00   \n",
       "13792                        NaN              2     202.00   \n",
       "13793                      240.0              0     207.00   \n",
       "...                          ...            ...        ...   \n",
       "119381                      14.0              0      99.00   \n",
       "119383                      42.0              0      87.60   \n",
       "119386                       9.0              0     225.43   \n",
       "119387                       9.0              0     157.71   \n",
       "119388                      89.0              0     104.40   \n",
       "\n",
       "        required_car_parking_spaces  total_of_special_requests  \n",
       "13789                             0                          1  \n",
       "13790                             0                          2  \n",
       "13791                             0                          0  \n",
       "13792                             0                          4  \n",
       "13793                             0                          2  \n",
       "...                             ...                        ...  \n",
       "119381                            0                          0  \n",
       "119383                            0                          0  \n",
       "119386                            0                          2  \n",
       "119387                            0                          4  \n",
       "119388                            0                          0  \n",
       "\n",
       "[134 rows x 27 columns]"
      ]
     },
     "execution_count": 105,
     "metadata": {},
     "output_type": "execute_result"
    }
   ],
   "source": [
    "df[(df[\"year_arrival_date\"] == 2017) & (df[\"month_arrival_date\"] == 2) & (df[\"day_of_month_arrival_date\"] == 31)] \n",
    "# When trying to create a time series for daily cancellations, found that there are cancellations on february days that dont exist.\n",
    "# date 31 in months that end in 30"
   ]
  },
  {
   "cell_type": "code",
   "execution_count": 106,
   "metadata": {},
   "outputs": [],
   "source": [
    "ts_df = pd.DataFrame()\n",
    "index = list()\n",
    "n_cancellations = list()\n",
    "\n",
    "for year in np.sort(df[\"year_arrival_date\"].unique()):\n",
    "    for month in np.sort(df[\"month_arrival_date\"].unique()):\n",
    "        index.append(str(year)+\"-\"+str(month))\n",
    "        n_cancellations.append(df[(df[\"year_arrival_date\"] == year) & (df[\"month_arrival_date\"] == month)][\"cancellation\"].sum())\n",
    "\n",
    "ts_df.index = index\n",
    "ts_df[\"cancellations\"] = n_cancellations\n",
    "ts_df.index = pd.to_datetime(ts_df.index)"
   ]
  },
  {
   "cell_type": "code",
   "execution_count": 107,
   "metadata": {},
   "outputs": [
    {
     "data": {
      "text/plain": [
       "<AxesSubplot:>"
      ]
     },
     "execution_count": 107,
     "metadata": {},
     "output_type": "execute_result"
    },
    {
     "data": {
      "image/png": "[encoded data removed]",
      "text/plain": [
       "<Figure size 432x288 with 1 Axes>"
      ]
     },
     "metadata": {
      "needs_background": "light"
     },
     "output_type": "display_data"
    }
   ],
   "source": [
    "ts_df.plot()\n",
    "# correlacao entre cancelamentos e numero de reservas"
   ]
  },
  {
   "cell_type": "code",
   "execution_count": null,
   "metadata": {},
   "outputs": [],
   "source": [
    "# CHURN\n",
    "\n",
    "# hipotese para item c):\n",
    "# 1. A separação temporal implica que os padrões observados em determinado ano(s) sem repetiram nos próximos anos.\n",
    "# 2. A separação aleatoria dá margem para que o modelo não overfite os padrões de determinados anos, se \"preparando\" para uma aleatoriedade futura.\n",
    "# 3. Verificar resultados para certeza.\n",
    "# 4. 2016 tem mais registros, combinar 2016 e outros?\n",
    "\n",
    "# obs:\n",
    "# 1. Quais dados estão disponíveis no momento da realização da reserva? (entendimento de negócio)\n",
    "# 2. Bar plot das colunas com dropna()\n",
    "# 3. Se der, agendar notebook no deepnote, simulando entrada de dados"
   ]
  }
 ],
 "metadata": {
  "interpreter": {
   "hash": "ad2bdc8ecc057115af97d19610ffacc2b4e99fae6737bb82f5d7fb13d2f2c186"
  },
  "kernelspec": {
   "display_name": "Python 3.9.7 ('base')",
   "language": "python",
   "name": "python3"
  },
  "language_info": {
   "codemirror_mode": {
    "name": "ipython",
    "version": 3
   },
   "file_extension": ".py",
   "mimetype": "text/x-python",
   "name": "python",
   "nbconvert_exporter": "python",
   "pygments_lexer": "ipython3",
   "version": "3.9.7"
  },
  "orig_nbformat": 4
 },
 "nbformat": 4,
 "nbformat_minor": 2
}
